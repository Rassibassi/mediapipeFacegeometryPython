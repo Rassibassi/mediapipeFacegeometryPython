{
 "cells": [
  {
   "cell_type": "code",
   "execution_count": 1,
   "metadata": {},
   "outputs": [],
   "source": [
    "import numpy as np\n",
    "from face_geometry import cpp_compare, project_xy,\\\n",
    "                          change_handedness, estimate_scale,\\\n",
    "                          move_and_rescale_z, unproject_xy,\\\n",
    "                          canonical_metric_landmarks, landmark_weights,\\\n",
    "                          get_metric_landmarks,\\\n",
    "                          DEBUG, PCF"
   ]
  },
  {
   "cell_type": "code",
   "execution_count": 2,
   "metadata": {},
   "outputs": [],
   "source": [
    "# save a file with your face from your camera with as frame.jpeg, then run jpeg_to_landmark.py\n",
    "# thereafter run this cell, then the cpp script (main.cpp), and then the next cell\n",
    "landmarks = np.load('landmarks.npy')\n",
    "np.save('canonical_metric_landmarks.npy', canonical_metric_landmarks)\n",
    "np.save('landmark_weights.npy', np.stack((landmark_weights, landmark_weights)))"
   ]
  },
  {
   "cell_type": "code",
   "execution_count": 3,
   "metadata": {},
   "outputs": [
    {
     "name": "stdout",
     "output_type": "stream",
     "text": [
      "canonical_metric_landmarks: 1.490073712786996e-11\n",
      "\n",
      "landmarks: 0.0\n",
      "\n",
      "first_iteration_scale: 0.017646663004658537\n",
      "sources: 1.490073712786996e-11\n",
      "\n",
      "targets: 6.770664287423341e-08\n",
      "\n",
      "weighted_sources: 8.256299453950529e-14\n",
      "\n",
      "weighted_targets: 1.5652631114705495e-10\n",
      "\n",
      "total_weight logged: 1.0550000043585919\n",
      "\n",
      "source_center_of_mass logged: [ 1.05234409e-16 -2.62520349e-01  3.74073921e+00]\n",
      "\n",
      "centered_weighted_sources: 7.335573533966446e-13\n",
      "\n",
      "design_matrix: 2.1706071575454937e-09\n",
      "\n",
      "design_matrix_norm logged: 25.378533000998015\n",
      "\n",
      "postrotation: 2.173713204800653e-12\n",
      "\n",
      "prerotation: 1.7838146683446466e-13\n",
      "\n",
      "rotation: 3.3478762473671e-12\n",
      "\n",
      "scale logged: 1.0229649418240596\n",
      "\n",
      "pointwise_diffs: 1.5086463967007842e-10\n",
      "\n",
      "weighted_pointwise_diffs: 8.388228385885382e-12\n",
      "\n",
      "translation logged: [ -1.60436787  -2.18943399 -53.17587781]\n",
      "\n",
      "transform_mat: 8.952414440090347e-12\n",
      "\n",
      "second_iteration_scale: 1.0229649418240592\n",
      "metric_landmarks: 2.054501486150982e-06\n",
      "\n",
      "Check get_metric_landmarks function 0.0\n"
     ]
    }
   ],
   "source": [
    "pcf = PCF()\n",
    "\n",
    "# this line DEBUG.get_debug() is False\n",
    "DEBUG.toggle()\n",
    "\n",
    "cpp_compare(\"canonical_metric_landmarks\", canonical_metric_landmarks)\n",
    "cpp_compare(\"landmarks\", landmarks)\n",
    "\n",
    "DEBUG.toggle()\n",
    "\n",
    "screen_landmarks = landmarks.copy()\n",
    "\n",
    "screen_landmarks = project_xy(screen_landmarks, pcf)\n",
    "depth_offset = np.mean(screen_landmarks[2, :])\n",
    "\n",
    "intermediate_landmarks = screen_landmarks.copy()\n",
    "intermediate_landmarks = change_handedness(intermediate_landmarks)\n",
    "first_iteration_scale = estimate_scale(intermediate_landmarks)\n",
    "print(\"first_iteration_scale:\", first_iteration_scale)\n",
    "\n",
    "DEBUG.toggle()\n",
    "\n",
    "intermediate_landmarks = screen_landmarks.copy()\n",
    "intermediate_landmarks = move_and_rescale_z(pcf, depth_offset, first_iteration_scale, intermediate_landmarks)\n",
    "intermediate_landmarks = unproject_xy(pcf, intermediate_landmarks)\n",
    "intermediate_landmarks = change_handedness(intermediate_landmarks)\n",
    "second_iteration_scale = estimate_scale(intermediate_landmarks)\n",
    "print(\"second_iteration_scale:\", second_iteration_scale)\n",
    "\n",
    "metric_landmarks = screen_landmarks.copy()\n",
    "total_scale = first_iteration_scale * second_iteration_scale\n",
    "metric_landmarks = move_and_rescale_z(pcf, depth_offset, total_scale, metric_landmarks)\n",
    "metric_landmarks = unproject_xy(pcf, metric_landmarks)\n",
    "metric_landmarks = change_handedness(metric_landmarks)\n",
    "\n",
    "cpp_compare(\"metric_landmarks\", metric_landmarks)\n",
    "\n",
    "DEBUG.toggle()\n",
    "\n",
    "metric_landmarks_2 = get_metric_landmarks(landmarks.copy(), pcf)\n",
    "\n",
    "print(\"Check get_metric_landmarks function\", np.sum(np.abs(metric_landmarks_2-metric_landmarks)**2))"
   ]
  },
  {
   "cell_type": "code",
   "execution_count": null,
   "metadata": {},
   "outputs": [],
   "source": []
  }
 ],
 "metadata": {
  "kernelspec": {
   "display_name": "Python 3",
   "language": "python",
   "name": "python3"
  },
  "language_info": {
   "codemirror_mode": {
    "name": "ipython",
    "version": 3
   },
   "file_extension": ".py",
   "mimetype": "text/x-python",
   "name": "python",
   "nbconvert_exporter": "python",
   "pygments_lexer": "ipython3",
   "version": "3.6.12"
  }
 },
 "nbformat": 4,
 "nbformat_minor": 4
}
